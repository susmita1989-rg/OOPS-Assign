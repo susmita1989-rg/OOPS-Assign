{
  "nbformat": 4,
  "nbformat_minor": 0,
  "metadata": {
    "colab": {
      "provenance": []
    },
    "kernelspec": {
      "name": "python3",
      "display_name": "Python 3"
    },
    "language_info": {
      "name": "python"
    }
  },
  "cells": [
    {
      "cell_type": "markdown",
      "source": [
        "# *Assignment* 4 OOPS"
      ],
      "metadata": {
        "id": "2sVISzAPe7zT"
      }
    },
    {
      "cell_type": "markdown",
      "source": [
        "1 What is Object-Oriented Programming (OOP)?\n",
        "-   Object-Oriented Programming or OOPs refers to languages that use objects in programming. Object-oriented programming aims to implement real-world entities like inheritance, hiding, polymorphism, etc in programming. The main aim of OOP is to bind together the data and the functions that operate on them so that no other part of the code can access this data except that function."
      ],
      "metadata": {
        "id": "NjtrtEBFfFEC"
      }
    },
    {
      "cell_type": "markdown",
      "source": [
        "2 What is class in oops?\n",
        "-  A class is a user-defined data type. It consists of data members and member functions, which can be accessed and used by creating an instance of that class. It represents the set of properties or methods that are common to all objects of one type. A class is like a blueprint for an object.  "
      ],
      "metadata": {
        "id": "3ubkDTSdfwNO"
      }
    },
    {
      "cell_type": "markdown",
      "source": [
        "3 What is an object in OOP?\n",
        "-  It is a basic unit of Object-Oriented Programming and represents the real-life entities. An Object is an instance of a Class. When a class is defined, no memory is allocated but when it is instantiated (i.e. an object is created) memory is allocated. An object has an identity, state, and behavior. Each object contains data and code to manipulate the data. Objects can interact without having to know details of each other’s data or code, it is sufficient to know the type of message accepted and type of response returned by the objects."
      ],
      "metadata": {
        "id": "cxFI64R5gN41"
      }
    },
    {
      "cell_type": "markdown",
      "source": [
        "4 What is the difference between abstraction and encapsulation?\n",
        "-  Abstraction\n",
        " -  It is the process of gaining information.\n",
        " - The problems in this technique are solved at the interface level.\n",
        " - It helps hide the unwanted details/information.\n",
        " - It can be implemented using abstract classes and interfaces.\n",
        "\n",
        "- Encapsulation\n",
        " -  It is a method that helps wrap up data into a single module.\n",
        " - Problems in encapsulation are solved at the implementation level.\n",
        " - It helps hide data using a single entity, or using a unit with the help of method that helps protect the information.\n",
        " - It can be implemented using access modifiers like public, private and protected."
      ],
      "metadata": {
        "id": "A_T_8DxjhEK6"
      }
    },
    {
      "cell_type": "markdown",
      "source": [
        "5 What are dunder methods in Python?\n",
        "-  Python Magic methods are the methods starting and ending with double underscores ‘__’. They are defined by built-in classes in Python and commonly used for operator overloading.\n",
        "\n",
        "-  They are also called Dunder methods, Dunder here means “Double Under (Underscores)”.\n",
        "\n",
        "-  Python Magic Methods\n",
        "Built in classes define many magic methods, dir() function can show you magic methods inherited by a class."
      ],
      "metadata": {
        "id": "rlmOTSW2iYJd"
      }
    },
    {
      "cell_type": "markdown",
      "source": [
        "6 Explain the concept of inheritance in OOP.\n",
        "-  In object-oriented programming (OOP), inheritance is a mechanism that allows a class to inherit properties and behaviors from another class. It is a fundamental concept in OOP that promotes code reuse and establishes relationships between classes.\n",
        "Inheritance in oops is based on a hierarchical relationship between classes, where a derived class (also known as a subclass or child class) inherits the characteristics of a base class (also known as a superclass or parent class). The derived class extends the functionality of the base class by adding new features or overriding existing ones."
      ],
      "metadata": {
        "id": "v2I-6FrDjN28"
      }
    },
    {
      "cell_type": "markdown",
      "source": [
        "7  What is polymorphism in OOP?\n",
        "-  Polymorphism is a foundational concept in programming that allows entities like functions, methods or operators to behave differently based on the type of data they are handling. Derived from Greek, the term literally means “many forms”.\n",
        "\n",
        "-  Python’s dynamic typing and duck typing make it inherently polymorphic. Functions, operators and even built-in objects like loops exhibit polymorphic behavior."
      ],
      "metadata": {
        "id": "Rw2E9f_9j8Db"
      }
    },
    {
      "cell_type": "markdown",
      "source": [
        "8 How is encapsulation achieved in Python?\n",
        "-  In Python, encapsulation refers to the bundling of data (attributes) and methods (functions) that operate on the data into a single unit, typically a class. It also restricts direct access to some components, which helps protect the integrity of the data and ensures proper usage."
      ],
      "metadata": {
        "id": "FC2N_PemlGwK"
      }
    },
    {
      "cell_type": "markdown",
      "source": [
        "9  What is a constructor in Python?\n",
        "-  Constructors in Python is a special class method for creating and initializing an object instance at that class. Every Python class has a constructor; it's not required to be defined explicitly. The purpose of the constructor is to construct an object and assign a value to the object's members."
      ],
      "metadata": {
        "id": "3wJMWUVUmdLx"
      }
    },
    {
      "cell_type": "markdown",
      "source": [
        "10 What are class and static methods in Python?\n",
        "-  The @classmethod decorator is a built-in function decorator that is an expression that gets evaluated after your function is defined. The result of that evaluation shadows your function definition. A class method receives the class as an implicit first argument, just like an instance method receives the instance\n",
        "-   A static method does not receive an implicit first argument. A static method is also a method that is bound to the class and not the object of the class. This method can’t access or modify the class state. It is present in a class because it makes sense for the method to be present in class."
      ],
      "metadata": {
        "id": "FdvRrI8-nDig"
      }
    },
    {
      "cell_type": "markdown",
      "source": [
        "11 what is method overloading in pyhton?\n",
        "-  The concept of method overloading in Python refers to the ability to define multiple methods of the same name, but with different parameters. In many object-oriented programming languages, overloading is used to create different implementations of a method, depending on the number or type of arguments passed."
      ],
      "metadata": {
        "id": "xawNnMrNnqBJ"
      }
    },
    {
      "cell_type": "markdown",
      "source": [
        "12  what is method overriding in pyhton?\n",
        "-  Method overriding is an ability of any object-oriented programming language that allows a subclass or child class to provide a specific implementation of a method that is already provided by one of its super-classes or parent classes. When a method in a subclass has the same name, the same parameters or signature, and same return type(or sub-type) as a method in its super-class, then the method in the subclass is said to override the method in the super-class."
      ],
      "metadata": {
        "id": "-B5nEcLNqusk"
      }
    },
    {
      "cell_type": "markdown",
      "source": [
        "13 What is a property decorator in Python?\n",
        "-  @property decorator is a built-in decorator in Python which is helpful in defining the properties effortlessly without manually calling the inbuilt function property(). Which is used to return the property attributes of a class from the stated getter, setter and deleter as parameters. Now, lets see some examples to illustrate the use of @property decorator in Python."
      ],
      "metadata": {
        "id": "rga7i7JOrSoK"
      }
    },
    {
      "cell_type": "markdown",
      "source": [
        "14 Why is polymorphism important in OOP?\n",
        "-  Polymorphism is important in Object-Oriented Programming (OOP) because it enhances code flexibility, reusability, and maintainability. It allows objects of different classes to be treated as objects of a common superclass, enabling a single interface to work with multiple types.\n",
        "\n",
        "-  Key Benefits of Polymorphism:\n",
        " -  Code Reusability – You can write generic code that works with different types, reducing duplication.\n",
        " -  Extensibility – You can add new classes without modifying existing code.\n",
        " - Simplifies Code – A single function or method can work with different types, making code easier to read and maintain.\n",
        " - Supports Open/Closed Principle – You can extend functionality without altering existing code.\n",
        " - Enhances Maintainability – Changes in one part of the system have minimal impact on others."
      ],
      "metadata": {
        "id": "xdPj3EEfrkdA"
      }
    },
    {
      "cell_type": "markdown",
      "source": [
        "15 What is an abstract class in Python?\n",
        "-  In Python, an abstract class is a class that cannot be instantiated and serves as a blueprint for other classes. It is defined using the ABC (Abstract Base Class) module and can contain abstract methods (methods that must be implemented by any subclass)."
      ],
      "metadata": {
        "id": "RGnmbdFSsVZM"
      }
    },
    {
      "cell_type": "markdown",
      "source": [
        "16 What are the advantages of OOP?\n",
        "-  Encapsulation  – Protects data by restricting direct access.\n",
        "-  Reusability (Inheritance)  – Avoids code duplication by reusing existing code.\n",
        "- Polymorphism  – Allows a single interface to work with different object types.\n",
        "- Modularity – Organizes code into independent, manageable objects.\n",
        "- Abstraction  – Hides complex implementation, showing only essential details.\n",
        "- Scalability & Maintainability  – Easier to update and expand applications.\n",
        "- Better Collaboration  – Teams can work on different parts independently."
      ],
      "metadata": {
        "id": "NJDIFXUxsgsw"
      }
    },
    {
      "cell_type": "markdown",
      "source": [
        "17  What is the difference between a class variable and an instance variable?\n",
        "-  Instance variables\n",
        " -  Instance variables are declared in a class, but outside a method, constructor or any block.\n",
        "  - Instance variables are created when an object is created with the use of the keyword 'new' and destroyed when the object is destroyed.\n",
        "  - Instance variables hold values that must be referenced by more than one method, constructor or block, or essential parts of an object's state that must be present throughout the class.\n",
        "- Static (class) variables\n",
        " -  Class variables also known as static variables are declared with the static keyword in a class, but outside a method, constructor or a block.\n",
        "  - Static variables are created when the program starts and destroyed when the program stops.\n",
        "  - There would only be one copy of each class variable per class, regardless of how many objects are created from it."
      ],
      "metadata": {
        "id": "VpM2MWh7tHdn"
      }
    },
    {
      "cell_type": "markdown",
      "source": [
        "18 What is multiple inheritance in Python?\n",
        "-  Multiple Inheritance in programming is like a family tree for your code. You have a bunch of classes, which are like different members of a family. When one class inherits from another, it's like a child inheriting traits from their parents. The child class gets all the abilities (methods) and properties (attributes) of the parent class, and can also have some of its own. This helps to keep your code organized, saves time, and makes it easier to understand and manage."
      ],
      "metadata": {
        "id": "d0w2aMg8uD3P"
      }
    },
    {
      "cell_type": "markdown",
      "source": [
        "19  Explain the purpose of ‘’__str__’ and ‘__repr__’ ‘ methods in Python.\n",
        "-  Purpose: The __repr__ method is meant to return a string that gives an unambiguous and detailed representation of an object. The string should ideally be valid Python code that can be used to recreate the object.\n",
        "- Purpose: The __str__ method is meant to return a human-readable and informal string representation of an object."
      ],
      "metadata": {
        "id": "XkaJo_FYuVNF"
      }
    },
    {
      "cell_type": "markdown",
      "source": [
        "20 What is the significance of the ‘super()’ function in Python?\n",
        "-  The super() function in Python is used to call a method from a parent (or superclass) inside a child (or subclass). It is mainly used in inheritance to extend or modify the behavior of a parent class without rewriting its code.\n",
        "\n"
      ],
      "metadata": {
        "id": "SwbIaX0gvGBa"
      }
    },
    {
      "cell_type": "markdown",
      "source": [
        "21 What is the significance of the __del__ method in Python?\n",
        "-  The __del__ method in Python is called when an object is about to be destroyed (i.e., when it is no longer referenced anywhere in the program). It is also known as the destructor because it allows cleanup operations before an object is garbage collected."
      ],
      "metadata": {
        "id": "EaV2Gv9svQ2K"
      }
    },
    {
      "cell_type": "markdown",
      "source": [
        "22 What is the difference between @staticmethod and @classmethod in Python?\n",
        "-   @staticmethod (Independent Method)\n",
        "A static method is independent of the class and instance.\n",
        "It does not take self (instance) or cls (class) as the first parameter.\n",
        "It behaves just like a regular function, but it belongs to the class for organizational purposes.\n",
        "-  @classmethod (Works with the Class)\n",
        "A class method takes cls as its first parameter, which represents the class itself.\n",
        "It can modify class variables or create instances.\n",
        "It works at the class level, not the instance level."
      ],
      "metadata": {
        "id": "89Ud7eysvc35"
      }
    },
    {
      "cell_type": "markdown",
      "source": [
        "23 How does polymorphism work in Python with inheritance?\n",
        "-  Polymorphism means \"many forms\"—it allows the same function or method to behave differently depending on the object calling it. In inheritance, polymorphism enables child classes to override or extend the behavior of parent class methods.\n",
        "\n"
      ],
      "metadata": {
        "id": "vnI5U3towB4E"
      }
    },
    {
      "cell_type": "markdown",
      "source": [
        "24 What is method chaining in Python OOP?\n",
        "-  Method chaining is a programming technique where multiple methods are called on the same object in a single line. This is done by ensuring that each method returns the object itself (usually with self), allowing multiple methods to be linked together."
      ],
      "metadata": {
        "id": "pLldDgr8wlKx"
      }
    },
    {
      "cell_type": "markdown",
      "source": [
        "25 What is the purpose of the __call__ method in Python?\n",
        "-  The __call__ method in Python allows an instance of a class to be called like a function. When you implement the __call__ method, you can use an object as if it were a function, enabling it to perform actions when invoked directly.\n",
        "\n",
        "- This is useful when you want to treat an object as callable—for example, to implement a function object, callback handler, or a decorator."
      ],
      "metadata": {
        "id": "KeZ1-8zBw34x"
      }
    },
    {
      "cell_type": "markdown",
      "source": [
        "# Practical Questions"
      ],
      "metadata": {
        "id": "YpWo6sQYxKo4"
      }
    },
    {
      "cell_type": "markdown",
      "source": [
        "1  Create a parent class Animal with a method speak() that prints a generic message. Create a child class Dog\n",
        "that overrides the speak() method to print \"Bark!\"."
      ],
      "metadata": {
        "id": "7_DVlxSwxV-d"
      }
    },
    {
      "cell_type": "code",
      "source": [
        "class Animal:\n",
        "    def speak1(self):\n",
        "        print(\"Generic animal sound\")\n",
        "\n",
        "class Dog(Animal):\n",
        "    def speak(self):\n",
        "        print(\"Bark!\")\n",
        "\n",
        "obje = Dog()\n",
        "obje.speak1()\n",
        "obje.speak()\n"
      ],
      "metadata": {
        "colab": {
          "base_uri": "https://localhost:8080/"
        },
        "id": "1xAtEt00xdrI",
        "outputId": "fb055117-4fa7-494e-af77-b4aab8a38281"
      },
      "execution_count": null,
      "outputs": [
        {
          "output_type": "stream",
          "name": "stdout",
          "text": [
            "Generic animal sound\n",
            "Bark!\n"
          ]
        }
      ]
    },
    {
      "cell_type": "markdown",
      "source": [
        "2 Write a program to create an abstract class Shape with a method area(). Derive classes Circle and Rectangle\n",
        "from it and implement the area() method in both."
      ],
      "metadata": {
        "id": "Spv7UaQly20y"
      }
    },
    {
      "cell_type": "code",
      "source": [
        "from abc import ABC, abstractmethod\n",
        "import math\n",
        "\n",
        "# Abstract base class\n",
        "class Shape(ABC):\n",
        "\n",
        "    @abstractmethod\n",
        "    def area(self):\n",
        "        pass  # This method must be implemented by any subclass\n",
        "\n",
        "# Derived class for Circle\n",
        "class Circle(Shape):\n",
        "    def __init__(self, radius):\n",
        "        self.radius = radius\n",
        "\n",
        "    def area(self):\n",
        "        # Area of a circle: π * radius^2\n",
        "        return math.pi * (self.radius ** 2)\n",
        "\n",
        "# Derived class for Rectangle\n",
        "class Rectangle(Shape):\n",
        "    def __init__(self, length, width):\n",
        "        self.length = length\n",
        "        self.width = width\n",
        "\n",
        "    def area(self):\n",
        "        # Area of a rectangle: length * width\n",
        "        return self.length * self.width\n",
        "\n",
        "# Create objects of Circle and Rectangle\n",
        "circle = Circle(5)  # radius = 5\n",
        "rectangle = Rectangle(4, 6)  # length = 4, width = 6\n",
        "\n",
        "# Calculate and print areas\n",
        "print(f\"Area of the circle: {circle.area()}\")  # Should print the area of the circle\n",
        "print(f\"Area of the rectangle: {rectangle.area()}\")  # Should print the area of the rectangle\n"
      ],
      "metadata": {
        "colab": {
          "base_uri": "https://localhost:8080/"
        },
        "id": "yIedDDIry8eZ",
        "outputId": "beae7866-50f9-4852-9603-71137ee909b9"
      },
      "execution_count": null,
      "outputs": [
        {
          "output_type": "stream",
          "name": "stdout",
          "text": [
            "Area of the circle: 78.53981633974483\n",
            "Area of the rectangle: 24\n"
          ]
        }
      ]
    },
    {
      "cell_type": "markdown",
      "source": [
        "3  Implement a multi-level inheritance scenario where a class Vehicle has an attribute type. Derive a class Car\n",
        "and further derive a class ElectricCar that adds a battery attribute."
      ],
      "metadata": {
        "id": "O8mltuk4zzgF"
      }
    },
    {
      "cell_type": "code",
      "source": [
        "class vehicle:\n",
        "    def derive(self):\n",
        "      print(\"Type of vehical\")\n",
        "class car (vehicle):\n",
        "  def derive_car(self):\n",
        "    print(\"SUV car deriving\")\n",
        "class electric_car(car):\n",
        "  def derive_electric_car(self):\n",
        "    print(\"Electric car deriving\")\n",
        "\n",
        "\n",
        "obj = electric_car()\n",
        "obj.derive()\n",
        "obj.derive_car()\n",
        "obj.derive_electric_car()\n",
        "\n"
      ],
      "metadata": {
        "colab": {
          "base_uri": "https://localhost:8080/"
        },
        "id": "NI_ta6eOz8dD",
        "outputId": "a8ad1891-7d1a-47cb-cfed-218cc53745c5"
      },
      "execution_count": null,
      "outputs": [
        {
          "output_type": "stream",
          "name": "stdout",
          "text": [
            "Type of vehical\n",
            "SUV car deriving\n",
            "Electric car deriving\n"
          ]
        }
      ]
    },
    {
      "cell_type": "markdown",
      "source": [
        "4  Demonstrate polymorphism by creating a base class Bird with a method fly(). Create two derived classes\n",
        "Sparrow and Penguin that override the fly() method."
      ],
      "metadata": {
        "id": "9-z3ExlX2ydX"
      }
    },
    {
      "cell_type": "code",
      "source": [
        "class Bird:\n",
        "    def fly(self):\n",
        "        print(\"Birds can fly\")\n",
        "\n",
        "class Sparrow(Bird):\n",
        "    def fly(self):\n",
        "        print(\"Sparrows can fly at high speeds\")\n",
        "\n",
        "obje = Sparrow()\n",
        "obje.fly()"
      ],
      "metadata": {
        "colab": {
          "base_uri": "https://localhost:8080/"
        },
        "id": "P1WJSPQc23wf",
        "outputId": "f8b757a6-7fbc-4eb1-9c6a-f302c8817957"
      },
      "execution_count": null,
      "outputs": [
        {
          "output_type": "stream",
          "name": "stdout",
          "text": [
            "Sparrows can fly at high speeds\n"
          ]
        }
      ]
    },
    {
      "cell_type": "markdown",
      "source": [
        " 5 Write a program to demonstrate encapsulation by creating a class BankAccount with private attributes\n",
        "balance and methods to deposit, withdraw, and check balance."
      ],
      "metadata": {
        "id": "IwEkBg3r5pIp"
      }
    },
    {
      "cell_type": "code",
      "source": [
        "class BankAccount:\n",
        "    def __init__(self, initial_balance=0):\n",
        "        self.__balance = initial_balance  # Private attribute\n",
        "\n",
        "    def deposit(self, amount):\n",
        "        if amount > 0:\n",
        "            self.__balance += amount\n",
        "            print(f\"Deposited: ${amount}\")\n",
        "        else:\n",
        "            print(\"Deposit amount must be positive.\")\n",
        "\n",
        "    def withdraw(self, amount):\n",
        "        if 0 < amount <= self.__balance:\n",
        "            self.__balance -= amount\n",
        "            print(f\"Withdrawn: ${amount}\")\n",
        "        else:\n",
        "            print(\"Invalid withdrawal amount.\")\n",
        "\n",
        "    def check_balance(self):\n",
        "        print(f\"Current balance: ${self.__balance}\")\n",
        "\n",
        "# Example usage\n",
        "account = BankAccount(100)  # Initial balance of $100\n",
        "account.deposit(50)\n",
        "account.withdraw(30)\n",
        "account.check_balance()\n",
        "\n",
        "\n"
      ],
      "metadata": {
        "id": "BopFKqLf7mK2",
        "colab": {
          "base_uri": "https://localhost:8080/"
        },
        "outputId": "56a349d7-1ee0-43a9-c4a7-df51e2c30aab"
      },
      "execution_count": 1,
      "outputs": [
        {
          "output_type": "stream",
          "name": "stdout",
          "text": [
            "Deposited: $50\n",
            "Withdrawn: $30\n",
            "Current balance: $120\n"
          ]
        }
      ]
    },
    {
      "cell_type": "markdown",
      "source": [
        "6  Demonstrate runtime polymorphism using a method play() in a base class Instrument. Derive classes Guitar\n",
        "and Piano that implement their own version of play()."
      ],
      "metadata": {
        "id": "GZ0n97zGoZ1h"
      }
    },
    {
      "cell_type": "code",
      "source": [
        "class Instrument:\n",
        "    def play(self):\n",
        "        raise NotImplementedError(\"Subclass must implement abstract method\")\n",
        "\n",
        "class Guitar(Instrument):\n",
        "    def play(self):\n",
        "        print(\"Playing the guitar: Strumming the strings!\")\n",
        "\n",
        "class Piano(Instrument):\n",
        "    def play(self):\n",
        "        print(\"Playing the piano: Pressing the keys!\")\n",
        "\n",
        "# Runtime Polymorphism Demonstration\n",
        "def perform(instrument):\n",
        "    instrument.play()\n",
        "\n",
        "# Example usage\n",
        "guitar = Guitar()\n",
        "piano = Piano()\n",
        "\n",
        "perform(guitar)  # Outputs: Playing the guitar: Strumming the strings!\n",
        "perform(piano)   # Outputs: Playing the piano: Pressing the keys!\n"
      ],
      "metadata": {
        "colab": {
          "base_uri": "https://localhost:8080/"
        },
        "id": "XfAzCuCjof1D",
        "outputId": "8028ff0b-006d-42f0-cba4-1123b8a84d38"
      },
      "execution_count": 2,
      "outputs": [
        {
          "output_type": "stream",
          "name": "stdout",
          "text": [
            "Playing the guitar: Strumming the strings!\n",
            "Playing the piano: Pressing the keys!\n"
          ]
        }
      ]
    },
    {
      "cell_type": "markdown",
      "source": [
        "7  Create a class MathOperations with a class method add_numbers() to add two numbers and a static\n",
        "method subtract_numbers() to subtract two numbers."
      ],
      "metadata": {
        "id": "q-nUKdzoo8Qz"
      }
    },
    {
      "cell_type": "code",
      "source": [
        "class MathOperations:\n",
        "    @classmethod\n",
        "    def add_numbers(cls, a, b):\n",
        "        return a + b\n",
        "\n",
        "    @staticmethod\n",
        "    def subtract_numbers(a, b):\n",
        "        return a - b\n",
        "\n",
        "# Example usage\n",
        "print(MathOperations.add_numbers(5, 3))   # Outputs: 8\n",
        "print(MathOperations.subtract_numbers(10, 4))  # Outputs: 6\n"
      ],
      "metadata": {
        "colab": {
          "base_uri": "https://localhost:8080/"
        },
        "id": "hN8vCNM4pBWo",
        "outputId": "dc963fc0-e43c-4324-b2a3-5f33d919ac39"
      },
      "execution_count": 3,
      "outputs": [
        {
          "output_type": "stream",
          "name": "stdout",
          "text": [
            "8\n",
            "6\n"
          ]
        }
      ]
    },
    {
      "cell_type": "markdown",
      "source": [
        "8  Implement a class Person with a class method to count the total number of persons created."
      ],
      "metadata": {
        "id": "qVMEMbb4pUjs"
      }
    },
    {
      "cell_type": "code",
      "source": [
        "class Person:\n",
        "    count = 0  # Class variable to track the number of persons\n",
        "\n",
        "    def __init__(self, name):\n",
        "        self.name = name\n",
        "        Person.count += 1  # Increment the counter when a new person is created\n",
        "\n",
        "    @classmethod\n",
        "    def total_persons(cls):\n",
        "        return cls.count\n",
        "\n",
        "# Example usage\n",
        "person1 = Person(\"Alice\")\n",
        "person2 = Person(\"Bob\")\n",
        "\n",
        "print(Person.total_persons())  # Outputs: 2\n"
      ],
      "metadata": {
        "colab": {
          "base_uri": "https://localhost:8080/"
        },
        "id": "XFEU6rXMpat1",
        "outputId": "51cffc7d-06a8-468c-9b1c-9eefe59d05f9"
      },
      "execution_count": 4,
      "outputs": [
        {
          "output_type": "stream",
          "name": "stdout",
          "text": [
            "2\n"
          ]
        }
      ]
    },
    {
      "cell_type": "markdown",
      "source": [
        "9  Write a class Fraction with attributes numerator and denominator. Override the str method to display the\n",
        "fraction as \"numerator/denominator\"."
      ],
      "metadata": {
        "id": "y20XuYsgptJ9"
      }
    },
    {
      "cell_type": "code",
      "source": [
        "class Fraction:\n",
        "    def __init__(self, numerator, denominator):\n",
        "        if denominator == 0:\n",
        "            raise ValueError(\"Denominator cannot be zero\")\n",
        "        self.numerator = numerator\n",
        "        self.denominator = denominator\n",
        "\n",
        "    def __str__(self):\n",
        "        return f\"{self.numerator}/{self.denominator}\"\n",
        "\n",
        "# Example usage\n",
        "frac1 = Fraction(3, 4)\n",
        "frac2 = Fraction(5, 8)\n",
        "\n",
        "print(frac1)  # Outputs: 3/4\n",
        "print(frac2)  # Outputs: 5/8"
      ],
      "metadata": {
        "colab": {
          "base_uri": "https://localhost:8080/"
        },
        "id": "0T9Wlj1jpxyy",
        "outputId": "a15d9d8f-71d4-4d8f-8dd2-6277af3d5000"
      },
      "execution_count": 5,
      "outputs": [
        {
          "output_type": "stream",
          "name": "stdout",
          "text": [
            "3/4\n",
            "5/8\n"
          ]
        }
      ]
    },
    {
      "cell_type": "markdown",
      "source": [
        "10  Demonstrate operator overloading by creating a class Vector and overriding the add method to add two\n",
        "vectors"
      ],
      "metadata": {
        "id": "X8zgi3Yyp32y"
      }
    },
    {
      "cell_type": "code",
      "source": [
        "class Vector:\n",
        "    def __init__(self, x, y):\n",
        "        self.x = x\n",
        "        self.y = y\n",
        "\n",
        "    def __add__(self, other):\n",
        "        if isinstance(other, Vector):\n",
        "            return Vector(self.x + other.x, self.y + other.y)\n",
        "        raise TypeError(\"Operands must be of type Vector\")\n",
        "\n",
        "    def __str__(self):\n",
        "        return f\"Vector({self.x}, {self.y})\"\n",
        "\n",
        "# Example usage\n",
        "v1 = Vector(2, 3)\n",
        "v2 = Vector(4, 5)\n",
        "v3 = v1 + v2\n",
        "\n",
        "print(v3)  # Outputs: Vector(6, 8)"
      ],
      "metadata": {
        "colab": {
          "base_uri": "https://localhost:8080/"
        },
        "id": "jz_7ZEqjp79N",
        "outputId": "a1b2c4bd-95fa-40f5-c0e5-eacf470592ee"
      },
      "execution_count": 6,
      "outputs": [
        {
          "output_type": "stream",
          "name": "stdout",
          "text": [
            "Vector(6, 8)\n"
          ]
        }
      ]
    },
    {
      "cell_type": "markdown",
      "source": [
        "11  Create a class Person with attributes name and age. Add a method greet() that prints \"Hello, my name is\n",
        "{name} and I am {age} years old."
      ],
      "metadata": {
        "id": "Lg9ObVVRqD6f"
      }
    },
    {
      "cell_type": "code",
      "source": [
        "class Person:\n",
        "    def __init__(self, name, age):\n",
        "        self.name = name\n",
        "        self.age = age\n",
        "\n",
        "    def greet(self):\n",
        "        print(f\"Hello, my name is {self.name} and I am {self.age} years old.\")\n",
        "\n",
        "# Example usage\n",
        "person1 = Person(\"Alice\", 30)\n",
        "person2 = Person(\"Bob\", 25)\n",
        "\n",
        "person1.greet()  # Outputs: Hello, my name is Alice and I am 30 years old.\n",
        "person2.greet()  # Outputs: Hello, my name is Bob and I am 25 years old."
      ],
      "metadata": {
        "colab": {
          "base_uri": "https://localhost:8080/"
        },
        "id": "zLTbYBVUqMeQ",
        "outputId": "f1621392-837e-4d49-af71-75ebbe0abeeb"
      },
      "execution_count": 7,
      "outputs": [
        {
          "output_type": "stream",
          "name": "stdout",
          "text": [
            "Hello, my name is Alice and I am 30 years old.\n",
            "Hello, my name is Bob and I am 25 years old.\n"
          ]
        }
      ]
    },
    {
      "cell_type": "markdown",
      "source": [
        "12  Implement a class Student with attributes name and grades. Create a method average_grade() to compute\n",
        "the average of the grades."
      ],
      "metadata": {
        "id": "fL8xsTmYqSHm"
      }
    },
    {
      "cell_type": "code",
      "source": [
        "class Student:\n",
        "    def __init__(self, name, grades):\n",
        "        self.name = name\n",
        "        self.grades = grades  # List of grades\n",
        "\n",
        "    def average_grade(self):\n",
        "        if not self.grades:\n",
        "            return 0  # Return 0 if no grades are available\n",
        "        return sum(self.grades) / len(self.grades)\n",
        "\n",
        "# Example usage\n",
        "student1 = Student(\"Alice\", [85, 90, 78])\n",
        "student2 = Student(\"Bob\", [92, 88, 95])\n",
        "\n",
        "print(f\"{student1.name}'s average grade: {student1.average_grade()}\")  # Outputs: Alice's average grade: 84.33\n",
        "print(f\"{student2.name}'s average grade: {student2.average_grade()}\")  # Outputs: Bob's average grade: 91.67"
      ],
      "metadata": {
        "colab": {
          "base_uri": "https://localhost:8080/"
        },
        "id": "smw8z58HqWc6",
        "outputId": "101ce8d0-fbca-46de-fac2-565bfc371450"
      },
      "execution_count": 8,
      "outputs": [
        {
          "output_type": "stream",
          "name": "stdout",
          "text": [
            "Alice's average grade: 84.33333333333333\n",
            "Bob's average grade: 91.66666666666667\n"
          ]
        }
      ]
    },
    {
      "cell_type": "markdown",
      "source": [
        "13  Create a class Rectangle with methods set_dimensions() to set the dimensions and area() to calculate the\n",
        "area."
      ],
      "metadata": {
        "id": "Mzd5JbVjqdp2"
      }
    },
    {
      "cell_type": "code",
      "source": [
        "class Rectangle:\n",
        "    def __init__(self, width=0, height=0):\n",
        "        self.width = width\n",
        "        self.height = height\n",
        "\n",
        "    def set_dimensions(self, width, height):\n",
        "        self.width = width\n",
        "        self.height = height\n",
        "\n",
        "    def area(self):\n",
        "        return self.width * self.height\n",
        "\n",
        "# Example usage\n",
        "rect = Rectangle()\n",
        "rect.set_dimensions(5, 10)\n",
        "print(f\"Area of rectangle: {rect.area()}\")  # Outputs: Area of rectangle: 50"
      ],
      "metadata": {
        "colab": {
          "base_uri": "https://localhost:8080/"
        },
        "id": "9EdGK-MIqhOH",
        "outputId": "b50f5eb1-1e2a-48db-e7c4-05ce463f0a8c"
      },
      "execution_count": 9,
      "outputs": [
        {
          "output_type": "stream",
          "name": "stdout",
          "text": [
            "Area of rectangle: 50\n"
          ]
        }
      ]
    },
    {
      "cell_type": "markdown",
      "source": [
        "14 Create a class Employee with a method calculate_salary() that computes the salary based on hours worked\n",
        "and hourly rate. Create a derived class Manager that adds a bonus to the salary."
      ],
      "metadata": {
        "id": "7erckzXTqo8z"
      }
    },
    {
      "cell_type": "code",
      "source": [
        "class Employee:\n",
        "    def __init__(self, name, hours_worked, hourly_rate):\n",
        "        self.name = name\n",
        "        self.hours_worked = hours_worked\n",
        "        self.hourly_rate = hourly_rate\n",
        "\n",
        "    def calculate_salary(self):\n",
        "        return self.hours_worked * self.hourly_rate\n",
        "\n",
        "class Manager(Employee):\n",
        "    def __init__(self, name, hours_worked, hourly_rate, bonus):\n",
        "        super().__init__(name, hours_worked, hourly_rate)\n",
        "        self.bonus = bonus\n",
        "\n",
        "    def calculate_salary(self):\n",
        "        return super().calculate_salary() + self.bonus\n",
        "\n",
        "# Example usage\n",
        "emp = Employee(\"Alice\", 40, 20)\n",
        "manager = Manager(\"Bob\", 40, 30, 500)\n",
        "\n",
        "print(f\"{emp.name}'s salary: ${emp.calculate_salary()}\")  # Outputs: Alice's salary: $800\n",
        "print(f\"{manager.name}'s salary: ${manager.calculate_salary()}\")  # Outputs: Bob's salary: $1700\n"
      ],
      "metadata": {
        "colab": {
          "base_uri": "https://localhost:8080/"
        },
        "id": "lSclh2epquWb",
        "outputId": "91ff0dbc-f40d-4fda-b614-4d799770cd59"
      },
      "execution_count": 10,
      "outputs": [
        {
          "output_type": "stream",
          "name": "stdout",
          "text": [
            "Alice's salary: $800\n",
            "Bob's salary: $1700\n"
          ]
        }
      ]
    },
    {
      "cell_type": "markdown",
      "source": [
        "15 Create a class Product with attributes name, price, and quantity. Implement a method total_price() that\n",
        "calculates the total price of the product."
      ],
      "metadata": {
        "id": "mWH2eIaYq17L"
      }
    },
    {
      "cell_type": "code",
      "source": [
        "class Product:\n",
        "    def __init__(self, name, price, quantity):\n",
        "        self.name = name  # product name\n",
        "        self.price = price  # price of the product\n",
        "        self.quantity = quantity  # quantity of the product\n",
        "\n",
        "    def total_price(self):\n",
        "        return self.price * self.quantity  # calculates the total price\n",
        "\n",
        "# Example of creating a Product object\n",
        "product = Product(\"Laptop\", 1000, 3)\n",
        "\n",
        "# Calculate the total price\n",
        "print(f\"Total price of {product.name}: ${product.total_price()}\")\n"
      ],
      "metadata": {
        "colab": {
          "base_uri": "https://localhost:8080/"
        },
        "id": "iVbNCMILq6Cm",
        "outputId": "44674902-3116-4d63-ecd7-6147d40d31a0"
      },
      "execution_count": 11,
      "outputs": [
        {
          "output_type": "stream",
          "name": "stdout",
          "text": [
            "Total price of Laptop: $3000\n"
          ]
        }
      ]
    },
    {
      "cell_type": "markdown",
      "source": [
        "16  Create a class Animal with an abstract method sound(). Create two derived classes Cow and Sheep that\n",
        "implement the sound() method."
      ],
      "metadata": {
        "id": "oahJa2MRrNov"
      }
    },
    {
      "cell_type": "code",
      "source": [
        "from abc import ABC, abstractmethod\n",
        "\n",
        "# Abstract base class Animal\n",
        "class Animal(ABC):\n",
        "    @abstractmethod\n",
        "    def sound(self):\n",
        "        pass  # Abstract method, to be implemented by derived classes\n",
        "\n",
        "# Derived class Cow\n",
        "class Cow(Animal):\n",
        "    def sound(self):\n",
        "        return \"Moo\"\n",
        "\n",
        "# Derived class Sheep\n",
        "class Sheep(Animal):\n",
        "    def sound(self):\n",
        "        return \"Baa\"\n",
        "\n",
        "# Example usage\n",
        "cow = Cow()\n",
        "sheep = Sheep()\n",
        "\n",
        "print(f\"Cow sound: {cow.sound()}\")\n",
        "print(f\"Sheep sound: {sheep.sound()}\")\n"
      ],
      "metadata": {
        "colab": {
          "base_uri": "https://localhost:8080/"
        },
        "id": "kapGGKRGrRv3",
        "outputId": "db52405b-4700-4470-88d4-4c93029cd9be"
      },
      "execution_count": 12,
      "outputs": [
        {
          "output_type": "stream",
          "name": "stdout",
          "text": [
            "Cow sound: Moo\n",
            "Sheep sound: Baa\n"
          ]
        }
      ]
    },
    {
      "cell_type": "markdown",
      "source": [
        "17  Create a class Book with attributes title, author, and year_published. Add a method get_book_info() that\n",
        "returns a formatted string with the book's details.\n",
        "\n",
        "\n"
      ],
      "metadata": {
        "id": "t6KXjK0vrW6-"
      }
    },
    {
      "cell_type": "code",
      "source": [
        "class Book:\n",
        "    def __init__(self, title, author, year_published):\n",
        "        self.title = title  # Book title\n",
        "        self.author = author  # Book author\n",
        "        self.year_published = year_published  # Year the book was published\n",
        "\n",
        "    def get_book_info(self):\n",
        "        # Returns a formatted string with book details\n",
        "        return f\"Title: {self.title}\\nAuthor: {self.author}\\nYear Published: {self.year_published}\"\n",
        "\n",
        "# Example usage\n",
        "book = Book(\"The Great Gatsby\", \"F. Scott Fitzgerald\", 1925)\n",
        "\n",
        "# Get the book's information\n",
        "print(book.get_book_info())\n"
      ],
      "metadata": {
        "colab": {
          "base_uri": "https://localhost:8080/"
        },
        "id": "ClWeTzMqra2d",
        "outputId": "80dbaadd-88c6-462d-cffa-217308189555"
      },
      "execution_count": 13,
      "outputs": [
        {
          "output_type": "stream",
          "name": "stdout",
          "text": [
            "Title: The Great Gatsby\n",
            "Author: F. Scott Fitzgerald\n",
            "Year Published: 1925\n"
          ]
        }
      ]
    },
    {
      "cell_type": "markdown",
      "source": [
        "18  Create a class House with attributes address and price. Create a derived class Mansion that adds an\n",
        "attribute number_of_rooms."
      ],
      "metadata": {
        "id": "L60ikAFXrhHI"
      }
    },
    {
      "cell_type": "code",
      "source": [
        "# Base class House\n",
        "class House:\n",
        "    def __init__(self, address, price):\n",
        "        self.address = address  # Address of the house\n",
        "        self.price = price  # Price of the house\n",
        "\n",
        "# Derived class Mansion\n",
        "class Mansion(House):\n",
        "    def __init__(self, address, price, number_of_rooms):\n",
        "        super().__init__(address, price)  # Call the parent class constructor\n",
        "        self.number_of_rooms = number_of_rooms  # Additional attribute for Mansion\n",
        "\n",
        "# Example usage\n",
        "mansion = Mansion(\"123 Luxury Ave\", 5000000, 15)\n",
        "\n",
        "# Display the mansion details\n",
        "print(f\"Address: {mansion.address}\")\n",
        "print(f\"Price: ${mansion.price}\")\n",
        "print(f\"Number of Rooms: {mansion.number_of_rooms}\")\n"
      ],
      "metadata": {
        "colab": {
          "base_uri": "https://localhost:8080/"
        },
        "id": "qZx0CduKrlZX",
        "outputId": "d80a7ad2-f6b7-4b2c-f3bc-bfcfbf8b69b5"
      },
      "execution_count": 14,
      "outputs": [
        {
          "output_type": "stream",
          "name": "stdout",
          "text": [
            "Address: 123 Luxury Ave\n",
            "Price: $5000000\n",
            "Number of Rooms: 15\n"
          ]
        }
      ]
    }
  ]
}